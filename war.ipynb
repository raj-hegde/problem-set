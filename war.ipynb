{
 "cells": [
  {
   "cell_type": "code",
   "execution_count": 22,
   "metadata": {},
   "outputs": [
    {
     "name": "stdout",
     "output_type": "stream",
     "text": [
      "False\n"
     ]
    }
   ],
   "source": [
    "class Card:\n",
    "    suits = [\"spades\", \"hearts\", \"diamond\", \"club\"]\n",
    "    values = [None, None, \"2\", \"3\", \"4\", \"5\", \"6\", \"7\", \"8\", \"9\", \"10\", \"Jack\", \"Queen\", \"King\"\n",
    "              \"Ace\"]\n",
    "    \n",
    "    def __init__(self, value, suit):\n",
    "        self.value = value\n",
    "        self.suit = suit\n",
    "    \n",
    "    def __lt__(self, other):\n",
    "        if self.value < other.value:\n",
    "            return True\n",
    "        if self.value == other.value:\n",
    "            if self.suit < other.suit:\n",
    "                return True\n",
    "            else:\n",
    "                return False\n",
    "        return False\n",
    "    \n",
    "    def __gt__(self, other):\n",
    "        if self.value > other.value:\n",
    "            return True\n",
    "        if self.value == other.value:\n",
    "            if self.suit > other.suit:\n",
    "                return True\n",
    "            else:\n",
    "                return False\n",
    "        return False\n",
    "    def __repr__(self):\n",
    "        return self.values[self.value] + \"of\" + self.suits[self.suit]\n",
    "    \n",
    "card1 = Card(10,2)\n",
    "card2 = Card(11,3)\n",
    "print(card1 > card2)\n",
    "\n"
   ]
  }
 ],
 "metadata": {
  "kernelspec": {
   "display_name": "Python 3",
   "language": "python",
   "name": "python3"
  },
  "language_info": {
   "codemirror_mode": {
    "name": "ipython",
    "version": 3
   },
   "file_extension": ".py",
   "mimetype": "text/x-python",
   "name": "python",
   "nbconvert_exporter": "python",
   "pygments_lexer": "ipython3",
   "version": "3.8.10"
  },
  "orig_nbformat": 4
 },
 "nbformat": 4,
 "nbformat_minor": 2
}
