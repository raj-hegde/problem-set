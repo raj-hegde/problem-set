{
 "cells": [
  {
   "cell_type": "code",
   "execution_count": 3,
   "outputs": [
    {
     "data": {
      "text/plain": "'supercalifragilisticexpialidocious'"
     },
     "execution_count": 3,
     "metadata": {},
     "output_type": "execute_result"
    }
   ],
   "source": [
    "marypop = ('supercali'\n",
    "           'fragilistic'\n",
    "           'expialidocious'\n",
    ")\n",
    "marypop"
   ],
   "metadata": {
    "collapsed": false,
    "ExecuteTime": {
     "end_time": "2023-10-31T16:11:26.659937257Z",
     "start_time": "2023-10-31T16:11:26.274497838Z"
    }
   },
   "id": "befc64b2b208dfce"
  },
  {
   "cell_type": "code",
   "execution_count": 8,
   "outputs": [
    {
     "data": {
      "text/plain": "('r', 'a', 'j', 'e', 'e', 'v')"
     },
     "execution_count": 8,
     "metadata": {},
     "output_type": "execute_result"
    }
   ],
   "source": [
    "x = 'rajeev'\n",
    "tuple(x)"
   ],
   "metadata": {
    "collapsed": false,
    "ExecuteTime": {
     "end_time": "2023-11-01T04:30:32.175536678Z",
     "start_time": "2023-11-01T04:30:32.080298309Z"
    }
   },
   "id": "1cc12b98bd8e74f"
  },
  {
   "cell_type": "code",
   "execution_count": 12,
   "outputs": [],
   "source": [],
   "metadata": {
    "collapsed": false,
    "ExecuteTime": {
     "end_time": "2023-11-01T05:09:11.761768204Z",
     "start_time": "2023-11-01T05:09:11.704821668Z"
    }
   },
   "id": "bfc83ead420ec1a2"
  }
 ],
 "metadata": {
  "kernelspec": {
   "display_name": "Python 3",
   "language": "python",
   "name": "python3"
  },
  "language_info": {
   "codemirror_mode": {
    "name": "ipython",
    "version": 2
   },
   "file_extension": ".py",
   "mimetype": "text/x-python",
   "name": "python",
   "nbconvert_exporter": "python",
   "pygments_lexer": "ipython2",
   "version": "2.7.6"
  }
 },
 "nbformat": 4,
 "nbformat_minor": 5
}
