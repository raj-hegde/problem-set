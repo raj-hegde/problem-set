{
 "cells": [
  {
   "cell_type": "code",
   "execution_count": 3,
   "metadata": {},
   "outputs": [
    {
     "name": "stdout",
     "output_type": "stream",
     "text": [
      "0 0\n",
      "1 0\n",
      "2 1\n",
      "3 1\n",
      "4 2\n",
      "5 2\n",
      "6 3\n",
      "7 3\n",
      "8 4\n",
      "9 4\n",
      "10 5\n",
      "11 5\n",
      "12 6\n",
      "13 6\n",
      "14 7\n",
      "15 7\n",
      "16 8\n"
     ]
    }
   ],
   "source": [
    "num = 17\n",
    "for i in range(0, 17):\n",
    "    for j in range(0, i):\n",
    "                \n"
   ]
  },
  {
   "cell_type": "code",
   "execution_count": null,
   "metadata": {},
   "outputs": [],
   "source": [
    "        \n",
    "\n"
   ]
  }
 ],
 "metadata": {
  "interpreter": {
   "hash": "1b36791eba86fb56aabc98b1bc5920e4653d9f2b8d0db5a2c22ea3a62da6af6f"
  },
  "kernelspec": {
   "display_name": "Python 3.8.10 64-bit ('hackerrank': venv)",
   "language": "python",
   "name": "python3"
  },
  "language_info": {
   "codemirror_mode": {
    "name": "ipython",
    "version": 3
   },
   "file_extension": ".py",
   "mimetype": "text/x-python",
   "name": "python",
   "nbconvert_exporter": "python",
   "pygments_lexer": "ipython3",
   "version": "3.8.10"
  },
  "orig_nbformat": 4
 },
 "nbformat": 4,
 "nbformat_minor": 2
}
