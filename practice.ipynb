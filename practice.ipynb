{
 "cells": [
  {
   "cell_type": "code",
   "execution_count": 2,
   "metadata": {},
   "outputs": [],
   "source": [
    "class Node:\n",
    "    def __init__(self, data, next=None):\n",
    "        self.data = data\n",
    "        self.next = next\n",
    "\n",
    "class LinkedList():\n",
    "    def __init__(self):\n",
    "        self.head = None\n",
    "    \n",
    "    def append(self, data):\n",
    "        if not self.head:\n",
    "            self.head = Node(data)\n",
    "            return\n",
    "        current = self.head\n",
    "        while current.next:\n",
    "            current = current.next\n",
    "        current.next = Node(data)\n",
    "        \n"
   ]
  },
  {
   "cell_type": "code",
   "execution_count": 4,
   "metadata": {},
   "outputs": [
    {
     "data": {
      "text/plain": [
       "__main__.LinkedList"
      ]
     },
     "execution_count": 4,
     "metadata": {},
     "output_type": "execute_result"
    }
   ],
   "source": [
    "a_list = LinkedList()\n",
    "a_list.append(\"Tuesday\")\n",
    "a_list.append(\"Wednesday\")\n",
    "print(a_list)"
   ]
  },
  {
   "cell_type": "code",
   "execution_count": 73,
   "metadata": {},
   "outputs": [
    {
     "name": "stdout",
     "output_type": "stream",
     "text": [
      "re.compile('([A-za-z])')\n"
     ]
    },
    {
     "data": {
      "text/plain": [
       "<re.Match object; span=(0, 1), match='_'>"
      ]
     },
     "execution_count": 73,
     "metadata": {},
     "output_type": "execute_result"
    }
   ],
   "source": [
    "import re\n",
    "regex = r'([A-za-z])'\n",
    "p = re.compile(regex)\n",
    "p.match(\"_ish72raj93\")\n"
   ]
  },
  {
   "cell_type": "code",
   "execution_count": 8,
   "metadata": {},
   "outputs": [
    {
     "name": "stdout",
     "output_type": "stream",
     "text": [
      "a\n"
     ]
    }
   ],
   "source": [
    "s = \"A man, a plan, a canal: Panama\"\n",
    "let_list = []\n",
    "if s.isalpha():\n",
    "  print(True)\n",
    "else:\n",
    "  for i in range(0, len(s)):\n",
    "    if s[i].isalpha():\n",
    "      let_list = s[i] \n",
    "print(let_list)\n",
    "\n"
   ]
  },
  {
   "cell_type": "code",
   "execution_count": 6,
   "metadata": {},
   "outputs": [
    {
     "name": "stdout",
     "output_type": "stream",
     "text": [
      "15.0\n"
     ]
    }
   ],
   "source": [
    "sum = 0 \n",
    "for i in range(11, 20):\n",
    "  sum += i\n",
    "avg = sum /9\n",
    "print(avg)\n"
   ]
  },
  {
   "cell_type": "code",
   "execution_count": 28,
   "metadata": {},
   "outputs": [
    {
     "name": "stdout",
     "output_type": "stream",
     "text": [
      "<__main__.Orange object at 0x7f93334faac0>\n"
     ]
    }
   ],
   "source": [
    "class Orange():\n",
    "    def __init__(self) -> None:\n",
    "        self.color = \"orange\"\n",
    "        self.weight = 10\n",
    "\n",
    "    def print_orange(self):\n",
    "        print(self)\n",
    "        print(self.color)\n",
    "        print(self.weight)\n",
    "\n",
    "orange = Orange()\n",
    "print(orange)\n"
   ]
  },
  {
   "cell_type": "code",
   "execution_count": 3,
   "metadata": {},
   "outputs": [
    {
     "name": "stdout",
     "output_type": "stream",
     "text": [
      "tiger hunger decreased by 10.\n"
     ]
    },
    {
     "ename": "NameError",
     "evalue": "name 'sleep' is not defined",
     "output_type": "error",
     "traceback": [
      "\u001b[0;31m---------------------------------------------------------------------------\u001b[0m",
      "\u001b[0;31mNameError\u001b[0m                                 Traceback (most recent call last)",
      "\u001b[0;32m/tmp/ipykernel_1059/3846699829.py\u001b[0m in \u001b[0;36m<module>\u001b[0;34m\u001b[0m\n\u001b[1;32m     31\u001b[0m \u001b[0mtiger\u001b[0m \u001b[0;34m=\u001b[0m \u001b[0mTiger\u001b[0m\u001b[0;34m(\u001b[0m\u001b[0;34m'tiger'\u001b[0m\u001b[0;34m)\u001b[0m\u001b[0;34m\u001b[0m\u001b[0;34m\u001b[0m\u001b[0m\n\u001b[1;32m     32\u001b[0m \u001b[0mtiger\u001b[0m\u001b[0;34m.\u001b[0m\u001b[0meat\u001b[0m\u001b[0;34m(\u001b[0m\u001b[0;36m10\u001b[0m\u001b[0;34m)\u001b[0m\u001b[0;34m\u001b[0m\u001b[0;34m\u001b[0m\u001b[0m\n\u001b[0;32m---> 33\u001b[0;31m \u001b[0mtiger\u001b[0m\u001b[0;34m,\u001b[0m\u001b[0msleep\u001b[0m\u001b[0;34m(\u001b[0m\u001b[0;36m10\u001b[0m\u001b[0;34m)\u001b[0m\u001b[0;34m\u001b[0m\u001b[0;34m\u001b[0m\u001b[0m\n\u001b[0m\u001b[1;32m     34\u001b[0m \u001b[0;34m\u001b[0m\u001b[0m\n",
      "\u001b[0;31mNameError\u001b[0m: name 'sleep' is not defined"
     ]
    }
   ],
   "source": [
    "class Mammal:\n",
    "    def __init__(self, name):\n",
    "        self.hunger = 100\n",
    "        self.tired = 100\n",
    "        self.name = name\n",
    "\n",
    "    def print_result(self, amount, action)    :\n",
    "        print(\"{} {} decreased by {}.\" .format(self.name, action, amount))\n",
    "      \n",
    "    def eat(self, decrease):\n",
    "        self.hunger -= decrease\n",
    "        self.print_result(decrease, \"hunger\")\n",
    "    \n",
    "    def sleep(self, decrease):\n",
    "        self.tired -= decrease\n",
    "        self.print_result(decrease, \"tiredness\")\n",
    "\n",
    "class Dolphin(Mammal):\n",
    "    pass\n",
    "\n",
    "class Tiger(Mammal):\n",
    "    def sleep(self, decrease):\n",
    "        self.tired -= decrease\n",
    "        print(\"The tiger is really tired!\")\n",
    "\n",
    "\n",
    "# dolphin = Dolphin('dolphin')\n",
    "# dolphin.eat(10)\n",
    "# dolphin.sleep(10)\n",
    "\n",
    "tiger = Tiger('tiger')\n",
    "tiger.eat(10)\n",
    "tiger.sleep(10)\n"
   ]
  }
 ],
 "metadata": {
  "kernelspec": {
   "display_name": "Python 3",
   "language": "python",
   "name": "python3"
  },
  "language_info": {
   "codemirror_mode": {
    "name": "ipython",
    "version": 3
   },
   "file_extension": ".py",
   "mimetype": "text/x-python",
   "name": "python",
   "nbconvert_exporter": "python",
   "pygments_lexer": "ipython3",
   "version": "3.8.10"
  },
  "orig_nbformat": 4,
  "vscode": {
   "interpreter": {
    "hash": "31f2aee4e71d21fbe5cf8b01ff0e069b9275f58929596ceb00d14d90e3e16cd6"
   }
  }
 },
 "nbformat": 4,
 "nbformat_minor": 2
}
