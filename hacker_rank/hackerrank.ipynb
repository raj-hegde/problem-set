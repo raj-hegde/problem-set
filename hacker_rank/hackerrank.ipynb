{
 "cells": [
  {
   "cell_type": "code",
   "execution_count": null,
   "metadata": {},
   "outputs": [],
   "source": [
    "x = 1\n",
    "y = 1\n",
    "z = 1\n",
    "n = 2\n",
    "print([[a, b, c] for a in range(0, x+1) for b in range(0, y+1) for c in range(0, z+1) if a + b + c != n])  \n"
   ]
  },
  {
   "cell_type": "code",
   "execution_count": null,
   "metadata": {},
   "outputs": [],
   "source": [
    "def second_largest(arr, n):\n",
    "    arr.sort()\n",
    "    for i in range(n-1, -1, -1):\n",
    "        if arr[i] != arr[-1]:\n",
    "            print(arr[i])\n",
    "            return\n",
    "\n",
    "        \n",
    "n = 5\n",
    "arr = [2,3,6,6,5]\n",
    "if second_largest(arr, n):\n",
    "    print(second_largest(arr, n))\n",
    "else:\n",
    "    print(\"There is no second largest element in the array\")\n",
    "     "
   ]
  },
  {
   "cell_type": "code",
   "execution_count": null,
   "metadata": {},
   "outputs": [],
   "source": [
    "\n"
   ]
  },
  {
   "cell_type": "code",
   "execution_count": null,
   "metadata": {},
   "outputs": [],
   "source": [
    "records = []\n",
    "for _ in range(int(input())):\n",
    "    name = input()\n",
    "    score = float(input())\n",
    "    records.append([])\n",
    "    records[_].append(name)\n",
    "    records[_].append(score)\n",
    "        \n",
    "scores = []\n",
    "temp = []\n",
    "for i in range(len(records)):\n",
    "    scores.append(records[i][1])\n",
    "scores.sort()\n",
    "\n",
    "for i in range(len(scores)-1):\n",
    "    if scores[0] != scores[i+1]:\n",
    "        if records[i][1] == scores[i+1]:\n",
    "            temp.append(records[i][0])\n",
    "                \n",
    "temp.sort()\n",
    "for i in temp:\n",
    "    print(i)"
   ]
  },
  {
   "cell_type": "code",
   "execution_count": 12,
   "metadata": {},
   "outputs": [
    {
     "name": "stdout",
     "output_type": "stream",
     "text": [
      "5\n",
      "[37.2, 37.21, 37.21, 39, 41]\n",
      "['Harry']\n",
      "['Harry', 'Berry']\n",
      "['Harry', 'Berry', 'Akriti']\n",
      "Akriti\n",
      "Berry\n",
      "Harry\n"
     ]
    }
   ],
   "source": [
    "# records = []\n",
    "# for _ in range(int(input())):\n",
    "#         name = input()\n",
    "#         score = float(input())\n",
    "#         records.append([])\n",
    "#         records[_].append(name)\n",
    "#         records[_].append(score)\n",
    "records = [['Harry', 37.21], ['Berry', 37.21], ['Tina', 37.2], ['Akriti', 41], ['Harsh', 39]] \n",
    "print(len(records))       \n",
    "scores = []\n",
    "temp = []\n",
    "for i in range(len(records)):\n",
    "    scores.append(records[i][1])\n",
    "scores.sort()\n",
    "print(scores)\n",
    "\n",
    "for i in range(len(scores)-1):\n",
    "    if scores[0] != scores[i+1]:     \n",
    "        if records[i][1] == scores[i+1]:\n",
    "            temp.append(records[i][0])\n",
    "            print(temp)\n",
    "            \n",
    "temp.sort()\n",
    "for i in temp:\n",
    "    print(i)\n",
    "\n",
    "    "
   ]
  },
  {
   "cell_type": "code",
   "execution_count": null,
   "metadata": {},
   "outputs": [],
   "source": [
    "Test1\n",
    "52\n",
    "Test2\n",
    "53\n",
    "Test3\n",
    "53"
   ]
  }
 ],
 "metadata": {
  "interpreter": {
   "hash": "30b38f4edfe10c3eb252eb0aa43f58b353919aaa563b013341f3453d8494d277"
  },
  "kernelspec": {
   "display_name": "Python 3.8.5 64-bit ('streamlit_ex': venv)",
   "name": "python3"
  },
  "language_info": {
   "codemirror_mode": {
    "name": "ipython",
    "version": 3
   },
   "file_extension": ".py",
   "mimetype": "text/x-python",
   "name": "python",
   "nbconvert_exporter": "python",
   "pygments_lexer": "ipython3",
   "version": "3.8.5"
  },
  "metadata": {
   "interpreter": {
    "hash": "30b38f4edfe10c3eb252eb0aa43f58b353919aaa563b013341f3453d8494d277"
   }
  },
  "orig_nbformat": 2
 },
 "nbformat": 4,
 "nbformat_minor": 2
}
