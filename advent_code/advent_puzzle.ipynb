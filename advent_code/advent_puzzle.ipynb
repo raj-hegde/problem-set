{
 "cells": [
  {
   "cell_type": "code",
   "execution_count": 1,
   "metadata": {},
   "outputs": [],
   "source": [
    "puzzle1 = open(\"adventpuzzle_1.txt\", \"r\")\n",
    "puzzle1_data = []\n",
    "for x in puzzle1:\n",
    "    puzzle1_data.append(int(x)) "
   ]
  },
  {
   "cell_type": "code",
   "execution_count": 2,
   "metadata": {},
   "outputs": [],
   "source": [
    "for i in puzzle1_data:\n",
    "    for j in puzzle1_data:\n",
    "        for h in puzzle1_data:\n",
    "            if i + j + h == 2020:\n",
    "                f_value, s_value, t_value = i, j, h"
   ]
  },
  {
   "cell_type": "code",
   "execution_count": 3,
   "metadata": {},
   "outputs": [
    {
     "output_type": "stream",
     "name": "stdout",
     "text": [
      "190 533 1297\n131347190\n"
     ]
    }
   ],
   "source": [
    "print(f_value, s_value, t_value)\n",
    "print(f_value * s_value * t_value)"
   ]
  },
  {
   "cell_type": "code",
   "execution_count": null,
   "metadata": {},
   "outputs": [],
   "source": []
  },
  {
   "cell_type": "code",
   "execution_count": 9,
   "metadata": {},
   "outputs": [
    {
     "output_type": "stream",
     "name": "stdout",
     "text": [
      "['2', '-', '5', ' ', 'l', ':', ' ', 'f', 'l', 'l', 'x', 'f', '\\n']\nTrue\n"
     ]
    }
   ],
   "source": [
    "puzzle2 = open(\"adventpuzzle_2.txt\", \"r\")\n",
    "x = []\n",
    "count = []\n",
    "match = []\n",
    "num = 0 \n",
    "\n",
    "data = []\n",
    "for q in puzzle2:\n",
    "    data.append(q)\n",
    "print(data)\n",
    "#print(line)\n",
    "\n",
    "for i in data:\n",
    "    x.append(i)\n",
    "\n",
    "for j in range(len(x)):\n",
    "    if x[j].isdigit():\n",
    "        count.append(x[j])\n",
    "        \n",
    "    if x[j].isalpha():\n",
    "        match.append(x[j])\n",
    "\n",
    "\n",
    "#print(count, match)   \n",
    "\n",
    "for dig in range(1, len(match)):\n",
    "    if match[0] == match[dig]:\n",
    "        num += 1\n",
    "#print(num)\n",
    "\n",
    "if num >= int(count[0]) and num <= int(count[1]):\n",
    "    print(True)"
   ]
  },
  {
   "cell_type": "code",
   "execution_count": 4,
   "metadata": {},
   "outputs": [
    {
     "output_type": "error",
     "ename": "SyntaxError",
     "evalue": "unexpected EOF while parsing (<ipython-input-4-84bf9cd8d386>, line 5)",
     "traceback": [
      "\u001b[0;36m  File \u001b[0;32m\"<ipython-input-4-84bf9cd8d386>\"\u001b[0;36m, line \u001b[0;32m5\u001b[0m\n\u001b[0;31m    \u001b[0m\n\u001b[0m    ^\u001b[0m\n\u001b[0;31mSyntaxError\u001b[0m\u001b[0;31m:\u001b[0m unexpected EOF while parsing\n"
     ]
    }
   ],
   "source": [
    "import re\n",
    "policy = []\n",
    "password = []\n",
    "for line in puzzle2:\n",
    "    "
   ]
  },
  {
   "cell_type": "code",
   "execution_count": 38,
   "metadata": {
    "tags": []
   },
   "outputs": [
    {
     "output_type": "stream",
     "name": "stdout",
     "text": [
      "['1', '5', '1', '6']\n['1', '3', '1', '4']\n['1', '2', '1', '6']\n['1', '4', '1', '9']\n['1', '0', '1', '2']\n['1', '6', '1', '9']\n['1', '2', '1', '4']\n['1', '1', '1', '4']\n['1', '0', '1', '2']\n['1', '2', '1', '3']\n['1', '7', '1', '8']\n['1', '3', '1', '7']\n['1', '2', '1', '8']\n['1', '1', '1', '2']\n['1', '3', '1', '6']\n['1', '5', '1', '6']\n['1', '3', '1', '4']\n['1', '2', '1', '4']\n['1', '0', '1', '9']\n['1', '4', '1', '6']\n['1', '1', '1', '2']\n['1', '4', '1', '5']\n['1', '0', '1', '4']\n['1', '4', '1', '5']\n['1', '2', '1', '3']\n['1', '0', '1', '1']\n['1', '2', '1', '3']\n['1', '0', '1', '6']\n['1', '0', '1', '2']\n['1', '3', '1', '4']\n['1', '2', '1', '6']\n['1', '9', '2', '0']\n['1', '1', '1', '8']\n['1', '3', '1', '5']\n['1', '3', '1', '4']\n['1', '0', '1', '2']\n['1', '2', '1', '4']\n['1', '6', '1', '7']\n['1', '5', '1', '8']\n['1', '4', '1', '8']\n['1', '2', '1', '8']\n['1', '3', '1', '8']\n['1', '0', '1', '3']\n['1', '2', '1', '3']\n['1', '5', '1', '7']\n['1', '0', '1', '4']\n['1', '7', '1', '9']\n['1', '0', '1', '3']\n['1', '0', '1', '3']\n['1', '0', '1', '1']\n['1', '4', '1', '6']\n['1', '3', '1', '5']\n['1', '0', '1', '2']\n['1', '1', '1', '4']\n['1', '5', '1', '9']\n['1', '5', '1', '7']\n['1', '2', '1', '3']\n['1', '3', '1', '4']\n['1', '0', '1', '7']\n['1', '5', '1', '6']\n['1', '3', '1', '8']\n['1', '1', '1', '3']\n['1', '1', '1', '2']\n['1', '7', '1', '8']\n['1', '7', '1', '9']\n['1', '3', '1', '4']\n['1', '0', '1', '3']\n['1', '0', '1', '1']\n['1', '0', '1', '1']\n['1', '1', '1', '2']\n['1', '2', '1', '3']\n['1', '8', '1', '9']\n['1', '4', '1', '8']\n['1', '8', '2', '0']\n['1', '1', '1', '7']\n['1', '2', '1', '3']\n['1', '3', '1', '6']\n['1', '6', '1', '9']\n['1', '5', '1', '6']\n['1', '0', '1', '1']\n['1', '2', '1', '5']\n['1', '3', '1', '4']\n['1', '4', '1', '5']\n['1', '0', '1', '1']\n['1', '4', '1', '5']\n['1', '5', '1', '8']\n['1', '6', '1', '9']\n['1', '7', '1', '8']\n['1', '4', '1', '5']\n['1', '6', '1', '7']\n['1', '5', '1', '6']\n['1', '0', '1', '5']\n['1', '5', '1', '8']\n['1', '0', '1', '5']\n['1', '0', '1', '1']\n['1', '3', '1', '6']\n['1', '1', '1', '3']\n['1', '3', '1', '4']\n['1', '4', '1', '8']\n['1', '8', '2', '0']\n['1', '8', '1', '9']\n['1', '1', '1', '2']\n['1', '5', '1', '7']\n['1', '4', '1', '5']\n['1', '0', '1', '2']\n['1', '3', '1', '6']\n['1', '6', '1', '7']\n['1', '1', '1', '2']\n['1', '8', '1', '9']\n['1', '3', '1', '8']\n['1', '0', '1', '1']\n['1', '3', '1', '4']\n['1', '0', '1', '2']\n['1', '3', '1', '5']\n['1', '2', '1', '8']\n['1', '0', '1', '1']\n['1', '7', '1', '8']\n['1', '5', '1', '8']\n['1', '1', '1', '4']\n['1', '2', '1', '4']\n['1', '0', '1', '4']\n['1', '1', '1', '4']\n['1', '3', '1', '4']\n['1', '3', '1', '9']\n['1', '1', '1', '3']\n['1', '2', '1', '5']\n['1', '6', '2', '0']\n['1', '5', '1', '9']\n['1', '1', '1', '2']\n['1', '4', '1', '5']\n['1', '8', '1', '9']\n['1', '7', '1', '8']\n['1', '2', '1', '4']\n['1', '5', '1', '6']\n['1', '4', '1', '9']\n['1', '2', '1', '3']\n['1', '6', '1', '8']\n['1', '2', '1', '7']\n['1', '3', '1', '4']\n['1', '2', '1', '3']\n['1', '1', '1', '3']\n['1', '6', '1', '7']\n['1', '1', '1', '2']\n['1', '0', '1', '2']\n['1', '6', '1', '7']\n['1', '2', '1', '9']\n['1', '5', '1', '9']\n['1', '0', '1', '1']\n['1', '4', '1', '5']\n['1', '0', '1', '3']\n['1', '0', '1', '3']\n['1', '2', '1', '4']\n['1', '1', '1', '7']\n['1', '1', '1', '2']\n['1', '3', '1', '4']\n['1', '4', '1', '5']\n['1', '3', '1', '4']\n['1', '1', '1', '3']\n['1', '1', '1', '2']\n['1', '5', '1', '6']\n['1', '0', '1', '2']\n['1', '0', '1', '1']\n['1', '1', '1', '8']\n['1', '7', '1', '9']\n['1', '5', '1', '6']\n['1', '4', '1', '5']\n['1', '0', '1', '1']\n['1', '0', '1', '1']\n['1', '8', '1', '9']\n['1', '4', '1', '5']\n['1', '0', '1', '5']\n['1', '0', '1', '1']\n['1', '0', '1', '1']\n['1', '1', '1', '6']\n['1', '3', '1', '8']\n['1', '5', '1', '6']\n['1', '0', '1', '7']\n['1', '0', '1', '6']\n['1', '2', '1', '5']\n['1', '0', '1', '7']\n['1', '0', '1', '1']\n['1', '5', '1', '6']\n['1', '4', '2', '0']\n['1', '1', '1', '7']\n['1', '5', '1', '6']\n['1', '0', '1', '6']\n['1', '4', '1', '6']\n['1', '0', '1', '6']\n['1', '0', '1', '2']\n['1', '0', '1', '6']\n['1', '2', '1', '5']\n['1', '0', '1', '1']\n['1', '3', '1', '4']\n['1', '4', '1', '5']\n['1', '0', '1', '1']\n['1', '1', '1', '8']\n['1', '5', '1', '6']\n['1', '1', '1', '8']\n['1', '4', '1', '5']\n['1', '5', '1', '6']\n['1', '0', '1', '1']\n['1', '4', '1', '7']\n['1', '3', '1', '6']\n['1', '0', '1', '1']\n['1', '3', '1', '6']\n['1', '0', '1', '4']\n['1', '5', '1', '8']\n['1', '4', '1', '7']\n['1', '5', '1', '9']\n"
     ]
    }
   ],
   "source": [
    "puzzle2 = open(\"adventpuzzle_2.txt\", \"r\")\n",
    "x = []\n",
    "data = []\n",
    "result = 0\n",
    "test = []\n",
    "for q in puzzle2:\n",
    "    data.append(q)\n",
    "#print(data)\n",
    "#print(line)\n",
    "\n",
    "for i in range(len(data)): #store line by line in x for matching\n",
    "    num = 0 \n",
    "    x = data[i] \n",
    "    count = []\n",
    "    match = []\n",
    "#print(x)\n",
    "  \n",
    "    for j in range(len(x)):\n",
    "        if x[j].isdigit(): #check if list contains a digit \n",
    "            count.append(x[j]) #and store in count\n",
    "            \n",
    "        if x[j].isalpha(): #check if list contains an alphabet\n",
    "            match.append(x[j])  #and store in match \n",
    "\n",
    "    for dig in range(1, len(match)): # loop until end of match   \n",
    "        if match[0] == match[dig]:  #check if policy matches with the pass\n",
    "            num += 1                #if it does, count the no. of time it exists\n",
    "\n",
    "    if len(count) == 2:\n",
    "        pass \n",
    "    if len(count) == 3:\n",
    "        count[1:] = [''.join(count[1:])]\n",
    "       \n",
    "    if len(count) == 4:\n",
    "        count[0:1] = [''.join(count[0:1])]\n",
    "        print(count)\n",
    "        #count[2:3] = [''.join(count[2:3])]\n",
    "       \n",
    "\n",
    "def total(count):\n",
    "    if num >= int(count[0]) and num <= int(count[1]): #compare total number with policy\n",
    "            result += 1\n",
    "#print(result)\n",
    "      \n",
    "\n",
    "    \n",
    "   "
   ]
  },
  {
   "cell_type": "code",
   "execution_count": 26,
   "metadata": {},
   "outputs": [
    {
     "output_type": "stream",
     "name": "stdout",
     "text": [
      "3\n['1', '23']\n2\n"
     ]
    }
   ],
   "source": [
    "c = ['1', '2', '3']\n",
    "print(len(c))\n",
    "c[1:] = [''.join(c[1:])]\n",
    "print(c)\n",
    "print(len(c))"
   ]
  },
  {
   "cell_type": "code",
   "execution_count": 27,
   "metadata": {},
   "outputs": [
    {
     "output_type": "stream",
     "name": "stdout",
     "text": [
      "1 23\n"
     ]
    }
   ],
   "source": [
    "print(c[0], c[1])"
   ]
  },
  {
   "cell_type": "code",
   "execution_count": 13,
   "metadata": {},
   "outputs": [
    {
     "output_type": "stream",
     "name": "stdout",
     "text": [
      "                                  2015\n\n      January                   February                   March\nSu Mo Tu We Th Fr Sa      Su Mo Tu We Th Fr Sa      Su Mo Tu We Th Fr Sa\n             1  2  3       1  2  3  4  5  6  7       1  2  3  4  5  6  7\n 4  5  6  7  8  9 10       8  9 10 11 12 13 14       8  9 10 11 12 13 14\n11 12 13 14 15 16 17      15 16 17 18 19 20 21      15 16 17 18 19 20 21\n18 19 20 21 22 23 24      22 23 24 25 26 27 28      22 23 24 25 26 27 28\n25 26 27 28 29 30 31                                29 30 31\n\n       April                      May                       June\nSu Mo Tu We Th Fr Sa      Su Mo Tu We Th Fr Sa      Su Mo Tu We Th Fr Sa\n          1  2  3  4                      1  2          1  2  3  4  5  6\n 5  6  7  8  9 10 11       3  4  5  6  7  8  9       7  8  9 10 11 12 13\n12 13 14 15 16 17 18      10 11 12 13 14 15 16      14 15 16 17 18 19 20\n19 20 21 22 23 24 25      17 18 19 20 21 22 23      21 22 23 24 25 26 27\n26 27 28 29 30            24 25 26 27 28 29 30      28 29 30\n                          31\n\n        July                     August                  September\nSu Mo Tu We Th Fr Sa      Su Mo Tu We Th Fr Sa      Su Mo Tu We Th Fr Sa\n          1  2  3  4                         1             1  2  3  4  5\n 5  6  7  8  9 10 11       2  3  4  5  6  7  8       6  7  8  9 10 11 12\n12 13 14 15 16 17 18       9 10 11 12 13 14 15      13 14 15 16 17 18 19\n19 20 21 22 23 24 25      16 17 18 19 20 21 22      20 21 22 23 24 25 26\n26 27 28 29 30 31         23 24 25 26 27 28 29      27 28 29 30\n                          30 31\n\n      October                   November                  December\nSu Mo Tu We Th Fr Sa      Su Mo Tu We Th Fr Sa      Su Mo Tu We Th Fr Sa\n             1  2  3       1  2  3  4  5  6  7             1  2  3  4  5\n 4  5  6  7  8  9 10       8  9 10 11 12 13 14       6  7  8  9 10 11 12\n11 12 13 14 15 16 17      15 16 17 18 19 20 21      13 14 15 16 17 18 19\n18 19 20 21 22 23 24      22 23 24 25 26 27 28      20 21 22 23 24 25 26\n25 26 27 28 29 30 31      29 30                     27 28 29 30 31\n\n"
     ]
    }
   ],
   "source": [
    "import calendar\n",
    "print(calendar.TextCalendar(firstweekday=6).formatyear(2015))"
   ]
  },
  {
   "cell_type": "code",
   "execution_count": 7,
   "metadata": {},
   "outputs": [],
   "source": [
    "calendar.setfirstweekday(calendar.SUNDAY)"
   ]
  },
  {
   "cell_type": "code",
   "execution_count": 29,
   "metadata": {},
   "outputs": [
    {
     "output_type": "stream",
     "name": "stdout",
     "text": [
      "WEDNESDAY\n"
     ]
    }
   ],
   "source": [
    "import datetime\n",
    "date = str(input('Enter the date: '))\n",
    "week = list(calendar.day_name)\n",
    "day = datetime.datetime.strptime(date, '%m %d %Y').weekday()\n",
    "print(week[day].upper())"
   ]
  },
  {
   "cell_type": "code",
   "execution_count": null,
   "metadata": {},
   "outputs": [],
   "source": []
  }
 ],
 "metadata": {
  "kernelspec": {
   "name": "pythonjvsc74a57bd030b38f4edfe10c3eb252eb0aa43f58b353919aaa563b013341f3453d8494d277",
   "display_name": "Python 3.8.5  ('streamlit_ex': venv)"
  },
  "language_info": {
   "codemirror_mode": {
    "name": "ipython",
    "version": 3
   },
   "file_extension": ".py",
   "mimetype": "text/x-python",
   "name": "python",
   "nbconvert_exporter": "python",
   "pygments_lexer": "ipython3",
   "version": "3.8.5"
  },
  "metadata": {
   "interpreter": {
    "hash": "30b38f4edfe10c3eb252eb0aa43f58b353919aaa563b013341f3453d8494d277"
   }
  }
 },
 "nbformat": 4,
 "nbformat_minor": 4
}