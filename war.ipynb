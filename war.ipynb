{
 "cells": [
  {
   "cell_type": "code",
   "execution_count": 8,
   "metadata": {},
   "outputs": [],
   "source": [
    "class Card:\n",
    "    suits = [\"spades\", \"hearts\", \"diamond\", \"club\"]\n",
    "    values = [None, None, \"2\", \"3\", \"4\", \"5\", \"6\", \"7\", \"8\", \"9\", \"10\", \"Jack\", \"Queen\", \"King\"\n",
    "              \"Ace\"]\n",
    "    \n",
    "    def __init__(self, value, suit):\n",
    "        self.value = value\n",
    "        self.suit = suit\n",
    "    \n",
    "    def __lt__(self, other):\n",
    "        if self.value < other.value:\n",
    "            return True\n",
    "        if self.value == other.value:\n",
    "            if self.suit < other.suit:\n",
    "                return True\n",
    "            else:\n",
    "                return False\n",
    "        return False\n",
    "    \n",
    "    def __gt__(self, other):\n",
    "        if self.value > other.value:\n",
    "            return True\n",
    "        if self.value == other.value:\n",
    "            if self.suit > other.suit:\n",
    "                return True\n",
    "            else:\n",
    "                return False\n",
    "        return False\n",
    "    \n",
    "    def __repr__(self):\n",
    "        return self.values[self.value] + \"of\" + self.suits[self.suit]\n",
    "    \n",
    "# card1 = Card(10,2)\n",
    "# card2 = Card(11,3)\n",
    "# print(card1 > card2)\n",
    "\n"
   ]
  },
  {
   "cell_type": "code",
   "execution_count": 10,
   "metadata": {},
   "outputs": [
    {
     "name": "stdout",
     "output_type": "stream",
     "text": [
      "Jackofspades\n",
      "Jackofclub\n",
      "2ofspades\n",
      "5ofspades\n",
      "4ofdiamond\n",
      "Queenofclub\n",
      "8ofspades\n"
     ]
    },
    {
     "ename": "IndexError",
     "evalue": "list index out of range",
     "output_type": "error",
     "traceback": [
      "\u001b[0;31m---------------------------------------------------------------------------\u001b[0m",
      "\u001b[0;31mIndexError\u001b[0m                                Traceback (most recent call last)",
      "Cell \u001b[0;32mIn[10], line 20\u001b[0m\n\u001b[1;32m     18\u001b[0m deck \u001b[39m=\u001b[39m Deck()\n\u001b[1;32m     19\u001b[0m \u001b[39mfor\u001b[39;00m card \u001b[39min\u001b[39;00m deck\u001b[39m.\u001b[39mcards:\n\u001b[0;32m---> 20\u001b[0m     \u001b[39mprint\u001b[39;49m(card)\n",
      "Cell \u001b[0;32mIn[8], line 31\u001b[0m, in \u001b[0;36mCard.__repr__\u001b[0;34m(self)\u001b[0m\n\u001b[1;32m     30\u001b[0m \u001b[39mdef\u001b[39;00m \u001b[39m__repr__\u001b[39m(\u001b[39mself\u001b[39m):\n\u001b[0;32m---> 31\u001b[0m     \u001b[39mreturn\u001b[39;00m \u001b[39mself\u001b[39;49m\u001b[39m.\u001b[39;49mvalues[\u001b[39mself\u001b[39;49m\u001b[39m.\u001b[39;49mvalue] \u001b[39m+\u001b[39m \u001b[39m\"\u001b[39m\u001b[39mof\u001b[39m\u001b[39m\"\u001b[39m \u001b[39m+\u001b[39m \u001b[39mself\u001b[39m\u001b[39m.\u001b[39msuits[\u001b[39mself\u001b[39m\u001b[39m.\u001b[39msuit]\n",
      "\u001b[0;31mIndexError\u001b[0m: list index out of range"
     ]
    }
   ],
   "source": [
    "from random import shuffle\n",
    "#This class represents the deck of cards\n",
    "class Deck:\n",
    "    def __init__(self):\n",
    "        self.cards = []\n",
    "        for i in range(2, 15):\n",
    "            for j in range(4):\n",
    "                self.cards.append(Card(i, j))\n",
    "        #print(self.cards)\n",
    "        shuffle(self.cards)\n",
    "\n",
    "def remove_card(self):\n",
    "    if len(self.cards) == 0:\n",
    "        return\n",
    "    return self.cards.pop() #I think here lies my bug\n",
    "    \n",
    "\n",
    "deck = Deck()\n",
    "for card in deck.cards:\n",
    "    print(card)\n",
    "\n",
    "\n"
   ]
  },
  {
   "cell_type": "code",
   "execution_count": null,
   "metadata": {},
   "outputs": [],
   "source": [
    "class Player:\n",
    "    def __init__(self, name):\n",
    "      self.wins = 0\n",
    "      self.card = None\n",
    "      self.name = name"
   ]
  },
  {
   "cell_type": "code",
   "execution_count": null,
   "metadata": {},
   "outputs": [],
   "source": [
    "class Game:\n",
    "    def __init__(self):\n",
    "        name1 = input(\"player1 name\")\n",
    "        name2 = input(\"player2 name\")\n",
    "        self.deck = Deck()\n",
    "        self.player1 = Player(name1)\n",
    "        self.player2 = Player(name2)\n",
    "\n",
    "    def play_game(self):\n",
    "        cards = self.deck.cards\n",
    "        print(\"beginning war\")\n",
    "        response = None\n",
    "        while len(cards) >= 2 and response != 'q':\n",
    "            response = input('q to quit. Any other key to play.')\n",
    "            player1_card = self.deck.remove_card()\n",
    "            player2_card = self.deck.remove_card()\n",
    "            print(\"{} drew {} {} drew {}\".format(self.player1.name,\n",
    "                    player1_card, self.player2.name, player2_card))\n",
    "            if player1_card > player2_card:\n",
    "                self.player1.wins += 1\n",
    "                print(\"{} wins this round\".format(self.player1.name))\n",
    "            else:\n",
    "                self.player2.wins += 1\n",
    "                print(\"{} wins this round\".format(self.player2.name))\n",
    "          \n",
    "        print(\"The war is over.{ wins}\".format(self.winner(self.player1, self.player2)))\n",
    "    \n",
    "    def winner(self, player1, player2):\n",
    "        if player1.wins > player2.wins:\n",
    "            return player1.name\n",
    "        if player1.wins < player2.wins:\n",
    "            return player2.name\n",
    "        return \"It was a tie!\"\n",
    "        "
   ]
  }
 ],
 "metadata": {
  "kernelspec": {
   "display_name": "Python 3",
   "language": "python",
   "name": "python3"
  },
  "language_info": {
   "codemirror_mode": {
    "name": "ipython",
    "version": 3
   },
   "file_extension": ".py",
   "mimetype": "text/x-python",
   "name": "python",
   "nbconvert_exporter": "python",
   "pygments_lexer": "ipython3",
   "version": "3.10.4"
  },
  "orig_nbformat": 4
 },
 "nbformat": 4,
 "nbformat_minor": 2
}
