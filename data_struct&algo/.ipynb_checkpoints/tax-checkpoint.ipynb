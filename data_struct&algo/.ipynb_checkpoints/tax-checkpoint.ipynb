{
 "cells": [
  {
   "cell_type": "code",
   "execution_count": 2,
   "id": "2a1c89c6-8fa7-4700-a0c1-13cd327cbc3a",
   "metadata": {},
   "outputs": [],
   "source": [
    "import math\n",
    "def revenue(tax):\n",
    "    return(100 * (math.log(tax+1) - (tax - 0.2)**2 + 0.04))"
   ]
  },
  {
   "cell_type": "code",
   "execution_count": 3,
   "id": "fa154164-51d3-4fda-88ca-62feb21631e4",
   "metadata": {},
   "outputs": [
    {
     "name": "stdout",
     "output_type": "stream",
     "text": [
      "-1599839170.5700393\n"
     ]
    }
   ],
   "source": [
    "print(revenue(4000))"
   ]
  },
  {
   "cell_type": "code",
   "execution_count": 5,
   "id": "56805caa-ef1e-48a1-a86b-e63e07f971de",
   "metadata": {},
   "outputs": [
    {
     "ename": "ModuleNotFoundError",
     "evalue": "No module named 'matplotlib'",
     "output_type": "error",
     "traceback": [
      "\u001b[0;31m---------------------------------------------------------------------------\u001b[0m",
      "\u001b[0;31mModuleNotFoundError\u001b[0m                       Traceback (most recent call last)",
      "Cell \u001b[0;32mIn[5], line 1\u001b[0m\n\u001b[0;32m----> 1\u001b[0m \u001b[38;5;28;01mimport\u001b[39;00m \u001b[38;5;21;01mmatplotlib\u001b[39;00m\u001b[38;5;21;01m.\u001b[39;00m\u001b[38;5;21;01mpyplot\u001b[39;00m \u001b[38;5;28;01mas\u001b[39;00m \u001b[38;5;21;01mplt\u001b[39;00m\n\u001b[1;32m      2\u001b[0m xs \u001b[38;5;241m=\u001b[39m [x\u001b[38;5;241m/\u001b[39m\u001b[38;5;241m1000\u001b[39m \u001b[38;5;28;01mfor\u001b[39;00m x \u001b[38;5;129;01min\u001b[39;00m \u001b[38;5;28mrange\u001b[39m(\u001b[38;5;241m1001\u001b[39m)]\n\u001b[1;32m      3\u001b[0m ys \u001b[38;5;241m=\u001b[39m [revenue(x) \u001b[38;5;28;01mfor\u001b[39;00m x \u001b[38;5;129;01min\u001b[39;00m xs]\n",
      "\u001b[0;31mModuleNotFoundError\u001b[0m: No module named 'matplotlib'"
     ]
    }
   ],
   "source": [
    "import matplotlib.pyplot as plt\n",
    "xs = [x/1000 for x in range(1001)]\n",
    "ys = [revenue(x) for x in xs]\n",
    "plt.plot(xs, ys)\n",
    "current_rate=0.7\n",
    "plt.plot(current_rate, revenue(current_rate), 'ro')\n",
    "plt.title('Tax Rates and Revenue')\n",
    "plt.xlabel('Tax Rate')\n",
    "plt.ylabel('Revenue')\n",
    "plt.show()"
   ]
  },
  {
   "cell_type": "code",
   "execution_count": null,
   "id": "04ad33fb-2d9f-48ec-bd74-5e3edb22e901",
   "metadata": {},
   "outputs": [],
   "source": []
  }
 ],
 "metadata": {
  "kernelspec": {
   "display_name": "Python 3 (ipykernel)",
   "language": "python",
   "name": "python3"
  },
  "language_info": {
   "codemirror_mode": {
    "name": "ipython",
    "version": 3
   },
   "file_extension": ".py",
   "mimetype": "text/x-python",
   "name": "python",
   "nbconvert_exporter": "python",
   "pygments_lexer": "ipython3",
   "version": "3.12.3"
  }
 },
 "nbformat": 4,
 "nbformat_minor": 5
}
