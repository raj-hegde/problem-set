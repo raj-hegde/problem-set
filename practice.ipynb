{
 "cells": [
  {
   "cell_type": "code",
   "execution_count": 4,
   "metadata": {},
   "outputs": [
    {
     "name": "stdout",
     "output_type": "stream",
     "text": [
      "Pay: 96.25\n"
     ]
    }
   ],
   "source": [
    "hrs = input(\"Enter hours: \")\n",
    "rate = input(\"Enter rate: \")\n",
    "print(\"Pay: %.2f\" %(float(hrs)*float(rate)))\n"
   ]
  },
  {
   "cell_type": "code",
   "execution_count": null,
   "metadata": {},
   "outputs": [],
   "source": []
  },
  {
   "cell_type": "code",
   "execution_count": 5,
   "metadata": {},
   "outputs": [
    {
     "name": "stdout",
     "output_type": "stream",
     "text": [
      "5\n"
     ]
    }
   ],
   "source": [
    "x = 3\n",
    "x = x + 2\n",
    "print(x)"
   ]
  },
  {
   "cell_type": "code",
   "execution_count": 7,
   "metadata": {},
   "outputs": [
    {
     "name": "stdout",
     "output_type": "stream",
     "text": [
      "498.75\n"
     ]
    }
   ],
   "source": [
    "hrs = input(\"Enter Hours:\")\n",
    "h = float(hrs)\n",
    "rate = input(\"Enter rate:\")\n",
    "r = float(rate)\n",
    "if h < 40:\n",
    "    pay = h * r\n",
    "elif h > 40:\n",
    "    pay = (40 * 10.5) + ((h - 40) *(1.5*10.5))\n",
    "print(pay)\n"
   ]
  },
  {
   "cell_type": "code",
   "execution_count": 5,
   "metadata": {},
   "outputs": [
    {
     "name": "stdout",
     "output_type": "stream",
     "text": [
      "2318\n"
     ]
    }
   ],
   "source": [
    "t = 1\n",
    "sum = 0\n",
    "for a in range(t):\n",
    "    n = 100\n",
    "    for j in range(n):\n",
    "        if j % 3 == 0 or j % 5 == 0:\n",
    "            sum += j\n",
    "print(sum)\n",
    "\n"
   ]
  },
  {
   "cell_type": "code",
   "execution_count": 4,
   "metadata": {},
   "outputs": [
    {
     "name": "stdout",
     "output_type": "stream",
     "text": [
      "Orange created!\n"
     ]
    }
   ],
   "source": [
    "class Orange():\n",
    "    print(\"Orange created!\" )\n",
    "\n",
    "    def print_orange(self):\n",
    "        print(self)"
   ]
  },
  {
   "cell_type": "code",
   "execution_count": 6,
   "metadata": {},
   "outputs": [
    {
     "name": "stdout",
     "output_type": "stream",
     "text": [
      "15.0\n"
     ]
    }
   ],
   "source": [
    "sum = 0 \n",
    "for i in range(11, 20):\n",
    "  sum += i\n",
    "avg = sum /9\n",
    "print(avg)\n"
   ]
  },
  {
   "cell_type": "code",
   "execution_count": 28,
   "metadata": {},
   "outputs": [
    {
     "name": "stdout",
     "output_type": "stream",
     "text": [
      "<__main__.Orange object at 0x7f93334faac0>\n"
     ]
    }
   ],
   "source": [
    "class Orange():\n",
    "    def __init__(self) -> None:\n",
    "        self.color = \"orange\"\n",
    "        self.weight = 10\n",
    "\n",
    "    def print_orange(self):\n",
    "        print(self)\n",
    "        print(self.color)\n",
    "        print(self.weight)\n",
    "\n",
    "orange = Orange()\n",
    "print(orange)\n"
   ]
  },
  {
   "cell_type": "code",
   "execution_count": 1,
   "metadata": {},
   "outputs": [
    {
     "name": "stdout",
     "output_type": "stream",
     "text": [
      "tiger hunger decreased by 10.\n",
      "The tiger is really tired!\n"
     ]
    }
   ],
   "source": [
    "class Mammal:\n",
    "    def __init__(self, name):\n",
    "        self.hunger = 100\n",
    "        self.tired = 100\n",
    "        self.name = name\n",
    "\n",
    "    def print_result(self, amount, action)    :\n",
    "        print(\"{} {} decreased by {}.\" .format(self.name, action, amount))\n",
    "      \n",
    "    def eat(self, decrease):\n",
    "        self.hunger -= decrease\n",
    "        self.print_result(decrease, \"hunger\")\n",
    "    \n",
    "    def sleep(self, decrease):\n",
    "        self.tired -= decrease\n",
    "        self.print_result(decrease, \"tiredness\")\n",
    "\n",
    "class Dolphin(Mammal):\n",
    "    pass\n",
    "\n",
    "class Tiger(Mammal):\n",
    "    def sleep(self, decrease):\n",
    "        self.tired -= decrease\n",
    "        print(\"The tiger is really tired!\")\n",
    "\n",
    "\n",
    "# dolphin = Dolphin('dolphin')\n",
    "# dolphin.eat(10)\n",
    "# dolphin.sleep(10)\n",
    "\n",
    "tiger = Tiger('tiger')\n",
    "tiger.eat(10)\n",
    "tiger.sleep(10)\n"
   ]
  },
  {
   "cell_type": "code",
   "execution_count": 2,
   "metadata": {},
   "outputs": [
    {
     "name": "stdout",
     "output_type": "stream",
     "text": [
      "Dilbert\n"
     ]
    }
   ],
   "source": [
    "class Lion:\n",
    "    def __init__(self, name):\n",
    "        self.name = name\n",
    "\n",
    "    def __repr__(self):\n",
    "        return self.name\n",
    "\n",
    "lion = Lion(\"Dilbert\")\n",
    "print(lion)"
   ]
  },
  {
   "cell_type": "code",
   "execution_count": 3,
   "metadata": {},
   "outputs": [
    {
     "name": "stdout",
     "output_type": "stream",
     "text": [
      "['2', '3', '4', '5', '6', '7', '8', '9', '10', 'Jack']\n"
     ]
    }
   ],
   "source": [
    "values = [None, None, \"2\", \"3\", \"4\", \"5\", \"6\", \"7\", \"8\", \"9\", \"10\", \"Jack\", \"Queen\", \"King\"]\n",
    "first, _, *middle, _, last = values\n",
    "print(middle)"
   ]
  },
  {
   "cell_type": "code",
   "execution_count": 4,
   "metadata": {},
   "outputs": [],
   "source": [
    "record = ('ACME', 50, 123.45, (12, 18, 2012))\n",
    "name, *_, date, year = record"
   ]
  },
  {
   "cell_type": "code",
   "execution_count": 5,
   "metadata": {},
   "outputs": [],
   "source": [
    "from collections import deque\n",
    "\n",
    "def search(lines, pattern, history=5):\n",
    "    previous_lines = deque(maxlen=history)\n",
    "    for line in lines:\n",
    "        if pattern in line:\n",
    "            yield line, previous_lines\n",
    "        previous_lines.append(line)\n",
    "\n",
    "    with open('test.txt') as f:\n",
    "        for line, prevlines in search(f, 'silently', 5):\n",
    "            for pline in prevlines:\n",
    "                print(pline, end=' ')\n",
    "            print(line, end=' ')\n",
    "            print('-'*20)\n"
   ]
  },
  {
   "cell_type": "code",
   "execution_count": 1,
   "metadata": {},
   "outputs": [
    {
     "name": "stdout",
     "output_type": "stream",
     "text": [
      "415-555-4242 is a phone number:\n",
      "True\n",
      "Moshi moshi is a phone number:\n",
      "False\n"
     ]
    }
   ],
   "source": [
    "#regular expressions\n",
    "def isPhoneNumber(text):\n",
    "    if len(text) != 12:\n",
    "        return False\n",
    "    for i in range(0, 3):\n",
    "        if not text[i].isdecimal():\n",
    "            return False\n",
    "    if text[3] != '-':\n",
    "        return False\n",
    "    for i in range(4, 7):\n",
    "        if not text[i].isdecimal():\n",
    "            return False\n",
    "    if text[7] != '-':\n",
    "        return False\n",
    "    for i in range(8, 12):\n",
    "        if not text[i].isdecimal():\n",
    "            return False\n",
    "    return True\n",
    "\n",
    "print('415-555-4242 is a phone number:')\n",
    "print(isPhoneNumber('415-555-4242'))\n",
    "print('Moshi moshi is a phone number:')\n",
    "print(isPhoneNumber('Moshi moshi'))\n"
   ]
  },
  {
   "cell_type": "code",
   "execution_count": 2,
   "metadata": {},
   "outputs": [
    {
     "name": "stdout",
     "output_type": "stream",
     "text": [
      "Phone number found: 415-555-1011\n",
      "Phone number found: 415-555-9999\n",
      "Done.\n"
     ]
    }
   ],
   "source": [
    "message = 'Call me at 415-555-1011 tomorrow. 415-555-9999 is my office.'\n",
    "for i in range(len(message)):\n",
    "    chunk = message[i:i+12]\n",
    "    if isPhoneNumber(chunk):\n",
    "        print('Phone number found: ' + chunk)\n",
    "print('Done.')"
   ]
  },
  {
   "cell_type": "code",
   "execution_count": 23,
   "metadata": {},
   "outputs": [
    {
     "name": "stdout",
     "output_type": "stream",
     "text": [
      "False\n"
     ]
    }
   ],
   "source": [
    "import math\n",
    "def fn(n):\n",
    "    p = (math.log(n) / math.log(3))\n",
    "    if ( p - int(p) == 0):\n",
    "        return True\n",
    "    else:\n",
    "        return False\n",
    "\n",
    "print(fn(243))\n"
   ]
  },
  {
   "cell_type": "code",
<<<<<<< HEAD
   "execution_count": 1,
=======
   "execution_count": 35,
>>>>>>> 2ea2aece5414a77435e451e43ed2663e311b3f1e
   "metadata": {},
   "outputs": [
    {
     "name": "stdout",
     "output_type": "stream",
     "text": [
<<<<<<< HEAD
      "10\n"
=======
      "<__main__.Linkedlist object at 0x7f66d0965be0>\n"
>>>>>>> 2ea2aece5414a77435e451e43ed2663e311b3f1e
     ]
    }
   ],
   "source": [
<<<<<<< HEAD
    "def total(n):\n",
    "    return ((n / 2) * (1 + n))\n",
    "\n",
    "print(int(total(4)))"
   ]
  },
  {
   "cell_type": "code",
   "execution_count": 6,
   "metadata": {},
   "outputs": [
    {
     "name": "stdout",
     "output_type": "stream",
     "text": [
      "No\n"
     ]
    }
   ],
   "source": [
    "# def is_palindrome(words):\n",
    "#   \"\"\"Returns True if the list of words forms a palindrome, False otherwise.\"\"\"\n",
    "\n",
    "#   # Check if the list is empty.\n",
    "#   if not words:\n",
    "#     return False\n",
    "\n",
    "#   # Reverse the list of words.\n",
    "#   reversed_words = words[::-1]\n",
    "\n",
    "#   # Compare the original list to the reversed list.\n",
    "#   for i in range(len(words)):\n",
    "#     if words[i] != reversed_words[i]:\n",
    "#       return False\n",
    "\n",
    "#   return True\n",
    "\n",
    "#   words = ['b', 'a', 'n', 'a', 'n', 'a']\n",
    "\n",
    "# if is_palindrome(words):\n",
    "#   print(\"Yes\")\n",
    "# else:\n",
    "#   print(\"No\")"
   ]
  },
  {
   "cell_type": "code",
   "execution_count": 14,
   "metadata": {},
   "outputs": [
    {
     "name": "stdout",
     "output_type": "stream",
     "text": [
      "False\n"
     ]
    }
   ],
   "source": [
    "def arith_progress(self, arr):\n",
    "    temp = sorted(arr, reverse=True)\n",
    "    diff = temp[0] - temp[1]\n",
    "    for i in range(0, len(temp)-1):\n",
    "        if temp[i] - temp[i+1] != diff:\n",
    "            return False\n",
    "    return True\n",
    "\n",
    "arr = [1,2,4]\n",
    "self = None\n",
    "print(arith_progress(self, arr))\n",
=======
    "class Node:\n",
    "    def __init__(self, data, next = None):\n",
    "      self.data = data\n",
    "      self.next = next\n",
    "\n",
    "class Linkedlist:\n",
    "  def __init__(self):\n",
    "    self.head = None\n",
    "  \n",
    "  def append(self, data):\n",
    "    if not self.head:\n",
    "      self.head = Node(data)\n",
    "      return\n",
    "    current = self.head\n",
    "    while current.next:\n",
    "      current = current.next\n",
    "    current.next = Node(data)\n",
    "\n",
    "  # def __str__(self):\n",
    "  #   node = self.head\n",
    "  #   while node is not None:\n",
    "  #     #print(node.data)\n",
    "  #     node = node.next\n",
    "    \n",
    "\n",
    "a_list = Linkedlist()\n",
    "a_list.append(\"tuesday\")\n",
    "print(a_list)\n",
    "a_list.append(\"wednesday\")\n",
    "print(a_list)\n",
    "\n",
    "\n",
>>>>>>> 2ea2aece5414a77435e451e43ed2663e311b3f1e
    "\n"
   ]
  }
 ],
 "metadata": {
  "kernelspec": {
   "display_name": "Python 3",
   "language": "python",
   "name": "python3"
  },
  "language_info": {
   "codemirror_mode": {
    "name": "ipython",
    "version": 3
   },
   "file_extension": ".py",
   "mimetype": "text/x-python",
   "name": "python",
   "nbconvert_exporter": "python",
   "pygments_lexer": "ipython3",
   "version": "3.8.10"
  },
  "orig_nbformat": 4,
  "vscode": {
   "interpreter": {
    "hash": "916dbcbb3f70747c44a77c7bcd40155683ae19c65e1c03b4aa3499c5328201f1"
   }
  }
 },
 "nbformat": 4,
 "nbformat_minor": 2
}
