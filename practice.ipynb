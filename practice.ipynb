{
 "cells": [
  {
   "cell_type": "code",
   "execution_count": 4,
   "metadata": {},
   "outputs": [
    {
     "name": "stdout",
     "output_type": "stream",
     "text": [
      "Pay: 96.25\n"
     ]
    }
   ],
   "source": [
    "hrs = input(\"Enter hours: \")\n",
    "rate = input(\"Enter rate: \")\n",
    "print(\"Pay: %.2f\" %(float(hrs)*float(rate)))\n"
   ]
  },
  {
   "cell_type": "code",
   "execution_count": 5,
   "metadata": {},
   "outputs": [
    {
     "name": "stdout",
     "output_type": "stream",
     "text": [
      "5\n"
     ]
    }
   ],
   "source": [
    "x = 3\n",
    "x = x + 2\n",
    "print(x)"
   ]
  },
  {
   "cell_type": "code",
   "execution_count": 7,
   "metadata": {},
   "outputs": [
    {
     "name": "stdout",
     "output_type": "stream",
     "text": [
      "498.75\n"
     ]
    }
   ],
   "source": [
    "hrs = input(\"Enter Hours:\")\n",
    "h = float(hrs)\n",
    "rate = input(\"Enter rate:\")\n",
    "r = float(rate)\n",
    "if h < 40:\n",
    "    pay = h * r\n",
    "elif h > 40:\n",
    "    pay = (40 * 10.5) + ((h - 40) *(1.5*10.5))\n",
    "print(pay)\n"
   ]
  },
  {
   "cell_type": "code",
   "execution_count": 8,
   "metadata": {},
   "outputs": [
    {
     "ename": "SyntaxError",
     "evalue": "invalid syntax (1944347739.py, line 1)",
     "output_type": "error",
     "traceback": [
      "\u001b[0;36m  Cell \u001b[0;32mIn [8], line 1\u001b[0;36m\u001b[0m\n\u001b[0;31m    (1)   astr = 'Hello Bob'\u001b[0m\n\u001b[0m          ^\u001b[0m\n\u001b[0;31mSyntaxError\u001b[0m\u001b[0;31m:\u001b[0m invalid syntax\n"
     ]
    }
   ],
   "source": [
    "(1)   astr = 'Hello Bob'\n",
    "(2)   istr = int(astr)\n",
    "(3)   print('First', istr)\n",
    "(4)   astr = '123'\n",
    "(5)   istr = int(astr)\n",
    "(6)   print('Second', istr)"
   ]
  },
  {
   "cell_type": "code",
   "execution_count": 5,
   "metadata": {},
   "outputs": [
    {
     "name": "stdout",
     "output_type": "stream",
     "text": [
      "2318\n"
     ]
    }
   ],
   "source": [
    "t = 1\n",
    "sum = 0\n",
    "for a in range(t):\n",
    "    n = 100\n",
    "    for j in range(n):\n",
    "        if j % 3 == 0 or j % 5 == 0:\n",
    "            sum += j\n",
    "print(sum)\n",
    "\n"
   ]
  },
  {
   "cell_type": "code",
   "execution_count": 4,
   "metadata": {},
   "outputs": [
    {
     "name": "stdout",
     "output_type": "stream",
     "text": [
      "Orange created!\n"
     ]
    }
   ],
   "source": [
    "class Orange():\n",
    "    print(\"Orange created!\" )\n",
    "\n",
    "    def print_orange(self):\n",
    "        print(self)"
   ]
  },
  {
   "cell_type": "code",
   "execution_count": 7,
   "metadata": {},
   "outputs": [
    {
     "data": {
      "text/plain": [
       "0.419974341614026"
      ]
     },
     "execution_count": 7,
     "metadata": {},
     "output_type": "execute_result"
    }
   ],
   "source": [
    "import autograd.numpy as np\n",
    "from autograd import grad\n",
    "\n",
    "def tanh(x):\n",
    "    y = np.exp(-2.0 * x)\n",
    "    return (1.0 - y) / (1.0 + y)\n",
    "\n",
    "grad_tanh = grad(tanh)\n",
    "grad_tanh(1.0)\n",
    "\n",
    "\n"
   ]
  },
  {
   "cell_type": "code",
   "execution_count": 6,
   "metadata": {},
   "outputs": [
    {
     "name": "stdout",
     "output_type": "stream",
     "text": [
      "15.0\n"
     ]
    }
   ],
   "source": [
    "sum = 0 \n",
    "for i in range(11, 20):\n",
    "  sum += i\n",
    "avg = sum /9\n",
    "print(avg)\n"
   ]
  },
  {
   "cell_type": "code",
   "execution_count": 28,
   "metadata": {},
   "outputs": [
    {
     "name": "stdout",
     "output_type": "stream",
     "text": [
      "<__main__.Orange object at 0x7f93334faac0>\n"
     ]
    }
   ],
   "source": [
    "class Orange():\n",
    "    def __init__(self) -> None:\n",
    "        self.color = \"orange\"\n",
    "        self.weight = 10\n",
    "\n",
    "    def print_orange(self):\n",
    "        print(self)\n",
    "        print(self.color)\n",
    "        print(self.weight)\n",
    "\n",
    "orange = Orange()\n",
    "print(orange)\n"
   ]
  },
  {
   "cell_type": "code",
   "execution_count": 3,
   "metadata": {},
   "outputs": [
    {
     "name": "stdout",
     "output_type": "stream",
     "text": [
      "tiger hunger decreased by 10.\n"
     ]
    },
    {
     "ename": "NameError",
     "evalue": "name 'sleep' is not defined",
     "output_type": "error",
     "traceback": [
      "\u001b[0;31m---------------------------------------------------------------------------\u001b[0m",
      "\u001b[0;31mNameError\u001b[0m                                 Traceback (most recent call last)",
      "\u001b[0;32m/tmp/ipykernel_1059/3846699829.py\u001b[0m in \u001b[0;36m<module>\u001b[0;34m\u001b[0m\n\u001b[1;32m     31\u001b[0m \u001b[0mtiger\u001b[0m \u001b[0;34m=\u001b[0m \u001b[0mTiger\u001b[0m\u001b[0;34m(\u001b[0m\u001b[0;34m'tiger'\u001b[0m\u001b[0;34m)\u001b[0m\u001b[0;34m\u001b[0m\u001b[0;34m\u001b[0m\u001b[0m\n\u001b[1;32m     32\u001b[0m \u001b[0mtiger\u001b[0m\u001b[0;34m.\u001b[0m\u001b[0meat\u001b[0m\u001b[0;34m(\u001b[0m\u001b[0;36m10\u001b[0m\u001b[0;34m)\u001b[0m\u001b[0;34m\u001b[0m\u001b[0;34m\u001b[0m\u001b[0m\n\u001b[0;32m---> 33\u001b[0;31m \u001b[0mtiger\u001b[0m\u001b[0;34m,\u001b[0m\u001b[0msleep\u001b[0m\u001b[0;34m(\u001b[0m\u001b[0;36m10\u001b[0m\u001b[0;34m)\u001b[0m\u001b[0;34m\u001b[0m\u001b[0;34m\u001b[0m\u001b[0m\n\u001b[0m\u001b[1;32m     34\u001b[0m \u001b[0;34m\u001b[0m\u001b[0m\n",
      "\u001b[0;31mNameError\u001b[0m: name 'sleep' is not defined"
     ]
    }
   ],
   "source": [
    "class Mammal:\n",
    "    def __init__(self, name):\n",
    "        self.hunger = 100\n",
    "        self.tired = 100\n",
    "        self.name = name\n",
    "\n",
    "    def print_result(self, amount, action)    :\n",
    "        print(\"{} {} decreased by {}.\" .format(self.name, action, amount))\n",
    "      \n",
    "    def eat(self, decrease):\n",
    "        self.hunger -= decrease\n",
    "        self.print_result(decrease, \"hunger\")\n",
    "    \n",
    "    def sleep(self, decrease):\n",
    "        self.tired -= decrease\n",
    "        self.print_result(decrease, \"tiredness\")\n",
    "\n",
    "class Dolphin(Mammal):\n",
    "    pass\n",
    "\n",
    "class Tiger(Mammal):\n",
    "    def sleep(self, decrease):\n",
    "        self.tired -= decrease\n",
    "        print(\"The tiger is really tired!\")\n",
    "\n",
    "\n",
    "# dolphin = Dolphin('dolphin')\n",
    "# dolphin.eat(10)\n",
    "# dolphin.sleep(10)\n",
    "\n",
    "tiger = Tiger('tiger')\n",
    "tiger.eat(10)\n",
    "tiger.sleep(10)\n"
   ]
  }
 ],
 "metadata": {
  "kernelspec": {
   "display_name": "Python 3",
   "language": "python",
   "name": "python3"
  },
  "language_info": {
   "codemirror_mode": {
    "name": "ipython",
    "version": 3
   },
   "file_extension": ".py",
   "mimetype": "text/x-python",
   "name": "python",
   "nbconvert_exporter": "python",
   "pygments_lexer": "ipython3",
   "version": "3.8.10"
  },
  "orig_nbformat": 4,
  "vscode": {
   "interpreter": {
    "hash": "916dbcbb3f70747c44a77c7bcd40155683ae19c65e1c03b4aa3499c5328201f1"
   }
  }
 },
 "nbformat": 4,
 "nbformat_minor": 2
}
