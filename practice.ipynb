{
 "cells": [
  {
   "cell_type": "code",
<<<<<<< HEAD
   "execution_count": 1,
   "metadata": {},
   "outputs": [
    {
     "name": "stdout",
     "output_type": "stream",
     "text": [
      "8\n"
=======
   "execution_count": 11,
   "metadata": {},
   "outputs": [
    {
     "ename": "SyntaxError",
     "evalue": "unexpected EOF while parsing (<ipython-input-11-88a1072a5e09>, line 5)",
     "output_type": "error",
     "traceback": [
      "\u001b[0;36m  File \u001b[0;32m\"<ipython-input-11-88a1072a5e09>\"\u001b[0;36m, line \u001b[0;32m5\u001b[0m\n\u001b[0;31m    \u001b[0m\n\u001b[0m    ^\u001b[0m\n\u001b[0;31mSyntaxError\u001b[0m\u001b[0;31m:\u001b[0m unexpected EOF while parsing\n"
>>>>>>> 3645c9c81eee548008ebbfcc5876980de346d0f9
     ]
    }
   ],
   "source": [
<<<<<<< HEAD
    "data = [\"abhi\", \"j\", \"raj\",\"varun\"]\n",
    "target = \"raj\"\n",
    "found = False\n",
    "for item in data:\n",
    "   if  item == target:\n",
    "    break"
=======
    "n = \"ATTCGGGA\"\n",
    "s = []\n",
    "for i in range(0, len(n)-1):\n",
    "    if n[i] != n[i + 1]:\n",
    "        s.append(i)\n",
    "print(s)\n"
>>>>>>> 3645c9c81eee548008ebbfcc5876980de346d0f9
   ]
  }
 ],
 "metadata": {
  "kernelspec": {
<<<<<<< HEAD
   "display_name": "Python 3.8.10 64-bit",
=======
   "display_name": "Python 3",
>>>>>>> 3645c9c81eee548008ebbfcc5876980de346d0f9
   "language": "python",
   "name": "python3"
  },
  "language_info": {
   "codemirror_mode": {
    "name": "ipython",
    "version": 3
   },
   "file_extension": ".py",
   "mimetype": "text/x-python",
   "name": "python",
   "nbconvert_exporter": "python",
   "pygments_lexer": "ipython3",
<<<<<<< HEAD
   "version": "3.8.10 (default, Jun 22 2022, 20:18:18) \n[GCC 9.4.0]"
=======
   "version": "3.8.10"
>>>>>>> 3645c9c81eee548008ebbfcc5876980de346d0f9
  },
  "orig_nbformat": 4,
  "vscode": {
   "interpreter": {
<<<<<<< HEAD
    "hash": "916dbcbb3f70747c44a77c7bcd40155683ae19c65e1c03b4aa3499c5328201f1"
=======
    "hash": "31f2aee4e71d21fbe5cf8b01ff0e069b9275f58929596ceb00d14d90e3e16cd6"
>>>>>>> 3645c9c81eee548008ebbfcc5876980de346d0f9
   }
  }
 },
 "nbformat": 4,
 "nbformat_minor": 2
}
