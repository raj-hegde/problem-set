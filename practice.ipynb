{
 "cells": [
  {
   "cell_type": "code",
   "execution_count": 1,
   "id": "bfc83ead420ec1a2",
   "metadata": {
    "ExecuteTime": {
     "end_time": "2023-11-02T14:07:36.723531150Z",
     "start_time": "2023-11-02T14:06:17.393669154Z"
    },
    "collapsed": false
   },
   "outputs": [
    {
     "name": "stdout",
     "output_type": "stream",
     "text": [
      "Enter a name: (blank to quit)\n"
     ]
    }
   ],
   "source": [
    "birthdays = {'Alice': 'Apr 1', 'Bob': 'Dec 12', 'Carol': 'Mar 4'}\n",
    "\n",
    "while True:\n",
    "    print('Enter a name: (blank to quit)')\n",
    "    name = input()\n",
    "    if name == '':\n",
    "        break\n",
    "    \n",
    "    if name in birthdays:\n",
    "        print(birthdays[name] + ' is the birthday of ' + name)\n",
    "    else:\n",
    "        print('I do not have a birthday information for this ' + name)\n",
    "        print('What is their birthday?')\n",
    "        bday = input()\n",
    "        birthdays[name] = bday\n",
    "        print('Birthday database is updated.')"
   ]
  },
  {
   "cell_type": "code",
   "execution_count": 2,
   "id": "148d7cef1ca5240",
   "metadata": {
    "ExecuteTime": {
     "end_time": "2023-11-02T14:45:49.444509307Z",
     "start_time": "2023-11-02T14:45:49.396768720Z"
    },
    "collapsed": false
   },
   "outputs": [
    {
     "name": "stdout",
     "output_type": "stream",
     "text": [
      "Apr 1\n",
      "Dec 12\n",
      "Mar 4\n",
      "<class 'str'>\n"
     ]
    }
   ],
   "source": [
    "for v in birthdays.values():\n",
    "    print(v)\n",
    "print(type(v))\n"
   ]
  },
  {
   "cell_type": "code",
   "execution_count": 3,
   "id": "eac0d5f273a16e32",
   "metadata": {
    "ExecuteTime": {
     "end_time": "2023-11-02T14:49:20.148641544Z",
     "start_time": "2023-11-02T14:49:20.088501839Z"
    },
    "collapsed": false
   },
   "outputs": [
    {
     "name": "stdout",
     "output_type": "stream",
     "text": [
      "Alice\n",
      "Bob\n",
      "Carol\n",
      "<class 'str'>\n"
     ]
    }
   ],
   "source": [
    "for k in list(birthdays.keys()):\n",
    "    print(k)\n",
    "print(type(k))"
   ]
  },
  {
   "cell_type": "code",
   "execution_count": 6,
   "id": "b0a32b2732979a84",
   "metadata": {
    "ExecuteTime": {
     "end_time": "2023-11-02T14:45:11.079235238Z",
     "start_time": "2023-11-02T14:45:11.034316797Z"
    },
    "collapsed": false
   },
   "outputs": [
    {
     "name": "stdout",
     "output_type": "stream",
     "text": [
      "('Alice', 'Apr 1')\n",
      "('Bob', 'Dec 12')\n",
      "('Carol', 'Mar 4')\n",
      "('2', 'Bob')\n",
      "<class 'tuple'>\n"
     ]
    }
   ],
   "source": [
    "for h in birthdays.items():\n",
    "    print(h)\n",
    "print(type(h))"
   ]
  },
  {
   "cell_type": "code",
   "execution_count": 11,
   "id": "8870d549e630fc30",
   "metadata": {
    "ExecuteTime": {
     "end_time": "2023-11-02T15:14:53.310364155Z",
     "start_time": "2023-11-02T15:14:53.267335307Z"
    },
    "collapsed": false
   },
   "outputs": [
    {
     "name": "stdout",
     "output_type": "stream",
     "text": [
      "Key: Alice, Value:Apr 1\n",
      "Key: Bob, Value:Dec 12\n",
      "Key: Carol, Value:Mar 4\n",
      "Key: 2, Value:Bob\n"
     ]
    }
   ],
   "source": [
    "for i, j in birthdays.items():\n",
    "    print('Key: ' + i + ',' + ' Value:' + j)"
   ]
  },
  {
   "cell_type": "code",
   "execution_count": 13,
   "id": "f03de2aefa5538b",
   "metadata": {
    "ExecuteTime": {
     "end_time": "2023-11-02T16:15:33.536315856Z",
     "start_time": "2023-11-02T16:15:33.525484481Z"
    },
    "collapsed": false
   },
   "outputs": [
    {
     "name": "stdout",
     "output_type": "stream",
     "text": [
      "{' ': 13,\n",
      " ',': 1,\n",
      " '.': 1,\n",
      " 'A': 1,\n",
      " 'I': 1,\n",
      " 'a': 4,\n",
      " 'b': 1,\n",
      " 'c': 3,\n",
      " 'd': 3,\n",
      " 'e': 5,\n",
      " 'g': 2,\n",
      " 'h': 3,\n",
      " 'i': 6,\n",
      " 'k': 2,\n",
      " 'l': 3,\n",
      " 'n': 4,\n",
      " 'o': 2,\n",
      " 'p': 1,\n",
      " 'r': 5,\n",
      " 's': 3,\n",
      " 't': 6,\n",
      " 'w': 2,\n",
      " 'y': 1}\n"
     ]
    }
   ],
   "source": [
    "import pprint\n",
    "message = 'It was a bright cold day in April, and the clocks were striking thirteen.'\n",
    "count = {}\n",
    "\n",
    "for char in message:\n",
    "    count.setdefault(char, 0)\n",
    "    count[char] += 1\n",
    "pprint.pprint(count)"
   ]
  },
  {
   "cell_type": "code",
   "execution_count": 20,
   "id": "c127ef8fc7ad23a1",
   "metadata": {
    "ExecuteTime": {
     "end_time": "2023-11-02T17:34:51.115386495Z",
     "start_time": "2023-11-02T17:32:51.158664690Z"
    },
    "collapsed": false
   },
   "outputs": [
    {
     "name": "stdout",
     "output_type": "stream",
     "text": [
      " | | \n",
      "-+-+-\n",
      " | | \n",
      "-+-+-\n",
      " | | \n",
      "Turn for X. Move for which space?\n",
      " | | \n",
      "-+-+-\n",
      " |X| \n",
      "-+-+-\n",
      " | | \n",
      "Turn for O. Move for which space?\n",
      " | | \n",
      "-+-+-\n",
      " |O| \n",
      "-+-+-\n",
      " | | \n",
      "Turn for X. Move for which space?\n",
      " | | \n",
      "-+-+-\n",
      " |O| \n",
      "-+-+-\n",
      " | | \n",
      "Turn for O. Move for which space?\n",
      " | | \n",
      "-+-+-\n",
      " |O| \n",
      "-+-+-\n",
      " | | \n",
      "Turn for X. Move for which space?\n",
      " | | \n",
      "-+-+-\n",
      " |O| \n",
      "-+-+-\n",
      " | | \n",
      "Turn for O. Move for which space?\n",
      " | | \n",
      "-+-+-\n",
      " |O| \n",
      "-+-+-\n",
      " | | \n",
      "Turn for X. Move for which space?\n",
      " | | \n",
      "-+-+-\n",
      " |O| \n",
      "-+-+-\n",
      " | | \n",
      "Turn for O. Move for which space?\n",
      " | | \n",
      "-+-+-\n",
      " |O| \n",
      "-+-+-\n",
      " | | \n",
      "Turn for X. Move for which space?\n",
      " | | \n",
      "-+-+-\n",
      " |O| \n",
      "-+-+-\n",
      " | | \n"
     ]
    }
   ],
   "source": [
    "the_board: dict[str, str] = {'top-L': ' ', 'top-M': ' ', 'top-R': ' ',\n",
    "             'mid-L': ' ', 'mid-M': ' ', 'mid-R': ' ',\n",
    "             'low-L': ' ', 'low-M': ' ', 'low-R': ' '}\n",
    "\n",
    "def print_board(board: dict[str, str]):\n",
    "    print(board['top-L'] + '|' + board['top-M'] + '|' + board['top-R'])\n",
    "    print('-+-+-')\n",
    "    print(board['mid-L'] + '|' + board['mid-M'] + '|' + board['mid-R'])\n",
    "    print('-+-+-')\n",
    "    print(board['low-L'] + '|' + board['low-M'] + '|' + board['low-R'])\n",
    "\n",
    "turn = 'X'\n",
    "for i in range(0, 9):\n",
    "    print_board(the_board)\n",
    "    print('Turn for ' + turn + '. Move for which space?')\n",
    "    move = input()\n",
    "    the_board[move] = turn\n",
    "    if turn == 'X':\n",
    "        turn = 'O'\n",
    "    else:\n",
    "        turn = 'X'\n",
    "print_board(the_board)\n",
    "    \n",
    "    \n",
    "\n"
   ]
  },
  {
   "cell_type": "code",
   "execution_count": 4,
   "metadata": {},
   "outputs": [
    {
     "name": "stdout",
     "output_type": "stream",
     "text": [
      "[1, 3, 6, 10, 15, 21]\n"
     ]
    }
   ],
   "source": [
    "def add_prev_array(arr: list[int]) -> list[int]:\n",
    "    sum: int = 0\n",
    "    x: list[int] = []\n",
    "    for i in range(len(arr)):\n",
    "        sum = sum + arr[i]\n",
    "        x.append(sum)\n",
    "    return x\n",
    "\n",
    "arr: list[int] = [1, 2, 3, 4, 5, 6]\n",
    "\n",
    "print(add_prev_array(arr))\n",
    "\n"
   ]
  },
  {
   "cell_type": "code",
   "execution_count": 13,
   "metadata": {},
   "outputs": [
    {
     "name": "stdout",
     "output_type": "stream",
     "text": [
      "[12, 23, 37, 53, 70]\n"
     ]
    }
   ],
   "source": [
    "def add_prev_array_recursive(arr: list[int], index: int = 0, sum: int = 0, result: list[int] = []) -> list[int]:\n",
    "    if index == len(arr):\n",
    "        return result\n",
    "    sum += arr[index]\n",
    "    result.append(sum)\n",
    "    return add_prev_array_recursive(arr, index + 1, sum, result)\n",
    "\n",
    "arr: list[int] = [12, 11, 14, 16, 17]\n",
    "result = add_prev_array_recursive(arr)\n",
    "print(result)\n"
   ]
  },
  {
   "cell_type": "code",
   "execution_count": 15,
   "metadata": {},
   "outputs": [
    {
     "name": "stdout",
     "output_type": "stream",
     "text": [
      "16\n"
     ]
    }
   ],
   "source": [
    "def power_x(x: int, n: int) -> int:\n",
    "    if n == 0:\n",
    "        return 1\n",
    "    elif n == 1:\n",
    "        return x\n",
    "    else:\n",
    "        return x * pow(x, n - 1)\n",
    "\n",
    "print(power_x(2, 4))\n",
    "\n"
   ]
  }
 ],
 "metadata": {
  "kernelspec": {
   "display_name": "Python 3",
   "language": "python",
   "name": "python3"
  },
  "language_info": {
   "codemirror_mode": {
    "name": "ipython",
    "version": 3
   },
   "file_extension": ".py",
   "mimetype": "text/x-python",
   "name": "python",
   "nbconvert_exporter": "python",
   "pygments_lexer": "ipython3",
   "version": "3.10.12"
  }
 },
 "nbformat": 4,
 "nbformat_minor": 5
}
