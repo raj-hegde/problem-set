{
 "cells": [
  {
   "cell_type": "code",
   "execution_count": 17,
   "metadata": {},
   "outputs": [
    {
     "name": "stdout",
     "output_type": "stream",
     "text": [
      "4\n"
     ]
    }
   ],
   "source": [
    "n = int(input())\n",
    "a = set([x for x in range(1, n+1)])\n",
    "b = set([int(x) for x in input().split()])\n",
    "print(next(iter(a-b)))"
   ]
  }
 ],
 "metadata": {
  "kernelspec": {
   "display_name": "Python 3.8.10 64-bit ('hackerrank': venv)",
   "language": "python",
   "name": "python3"
  },
  "language_info": {
   "codemirror_mode": {
    "name": "ipython",
    "version": 3
   },
   "file_extension": ".py",
   "mimetype": "text/x-python",
   "name": "python",
   "nbconvert_exporter": "python",
   "pygments_lexer": "ipython3",
   "version": "3.8.10"
  },
  "orig_nbformat": 4,
  "vscode": {
   "interpreter": {
    "hash": "1b36791eba86fb56aabc98b1bc5920e4653d9f2b8d0db5a2c22ea3a62da6af6f"
   }
  }
 },
 "nbformat": 4,
 "nbformat_minor": 2
}
