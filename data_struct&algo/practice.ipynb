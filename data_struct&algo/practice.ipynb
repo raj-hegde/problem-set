{
 "cells": [
  {
   "cell_type": "code",
<<<<<<< HEAD
   "execution_count": 17,
=======
   "execution_count": 8,
   "metadata": {},
   "outputs": [
    {
     "name": "stdout",
     "output_type": "stream",
     "text": [
      "True\n"
     ]
    }
   ],
   "source": [
    "stack = []\n",
    "if not stack and stack != 0:\n",
    "    print(True)\n",
    "else:\n",
    "    print(False)\n"
   ]
  },
  {
   "cell_type": "code",
   "execution_count": 16,
>>>>>>> 9d912c8ec9b0beb31d0264fd701b073f6ec9012d
   "metadata": {},
   "outputs": [
    {
     "name": "stdout",
     "output_type": "stream",
     "text": [
      "4\n"
     ]
    }
   ],
   "source": [
<<<<<<< HEAD
    "n = int(input())\n",
    "a = set([x for x in range(1, n+1)])\n",
    "b = set([int(x) for x in input().split()])\n",
    "print(next(iter(a-b)))"
=======
    "a = [12, 11]\n",
    "if 10 in a:\n",
    "    print(True)\n",
    "    #page 14"
>>>>>>> 9d912c8ec9b0beb31d0264fd701b073f6ec9012d
   ]
  }
 ],
 "metadata": {
  "kernelspec": {
   "display_name": "Python 3.8.10 64-bit",
   "language": "python",
   "name": "python3"
  },
  "language_info": {
   "codemirror_mode": {
    "name": "ipython",
    "version": 3
   },
   "file_extension": ".py",
   "mimetype": "text/x-python",
   "name": "python",
   "nbconvert_exporter": "python",
   "pygments_lexer": "ipython3",
   "version": "3.8.10"
  },
  "orig_nbformat": 4,
  "vscode": {
   "interpreter": {
    "hash": "916dbcbb3f70747c44a77c7bcd40155683ae19c65e1c03b4aa3499c5328201f1"
   }
  }
 },
 "nbformat": 4,
 "nbformat_minor": 2
}
